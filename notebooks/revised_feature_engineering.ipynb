{
 "cells": [
  {
   "cell_type": "code",
   "execution_count": 1,
   "id": "d0c11dc0",
   "metadata": {},
   "outputs": [],
   "source": [
    "import os\n",
    "import numpy as np\n",
    "import pandas as pd\n",
    "import matplotlib.pyplot as plt\n",
    "from skimage.io import imread\n",
    "from skimage.transform import resize\n",
    "from skimage.color import rgb2gray, rgb2hsv\n",
    "from skimage.feature import (\n",
    "    local_binary_pattern,\n",
    "    graycomatrix,\n",
    "    graycoprops,\n",
    "    hog\n",
    ")\n",
    "from sklearn.decomposition import PCA\n",
    "import pywt\n",
    "import tqdm "
   ]
  },
  {
   "cell_type": "code",
   "execution_count": 2,
   "id": "a6f8b719",
   "metadata": {},
   "outputs": [],
   "source": [
    "metadata_df = pd.read_csv('../datasets/ISIC_2019_cleaned_cropped_resized/resampled_metadata_resized.csv')"
   ]
  },
  {
   "cell_type": "code",
   "execution_count": null,
   "id": "4015bd56",
   "metadata": {},
   "outputs": [],
   "source": [
    "# --- Parameters ---\n",
    "LBP_POINTS = 24\n",
    "LBP_RADIUS = 3\n",
    "GLCM_DISTANCES = [1, 2, 3]\n",
    "GLCM_ANGLES = [0, np.pi/4, np.pi/2, 3*np.pi/4]\n",
    "GLCM_PROPS = ['contrast', 'dissimilarity', 'homogeneity', 'energy', 'correlation', 'ASM']\n",
    "\n",
    "# --- Image loading ---\n",
    "def load_image(image_path, size=(450, 450)):\n",
    "    img = imread(image_path)\n",
    "    if img.ndim == 2:  # grayscale\n",
    "        img = np.stack([img]*3, axis=-1)\n",
    "    img = resize(img, size, anti_aliasing=True)\n",
    "    return img\n",
    "\n",
    "# --- HOG ---\n",
    "def extract_hog_features(image, pixels_per_cell=(16, 16), cells_per_block=(2, 2), orientations=4):\n",
    "    gray = rgb2gray(image)\n",
    "    features = hog(gray,\n",
    "                   orientations=orientations,\n",
    "                   pixels_per_cell=pixels_per_cell,\n",
    "                   cells_per_block=cells_per_block,\n",
    "                   block_norm='L2-Hys',\n",
    "                   feature_vector=True)\n",
    "    return features\n",
    "\n",
    "# --- LBP ---\n",
    "def extract_lbp_features(image):\n",
    "    gray = rgb2gray(image)\n",
    "    lbp = local_binary_pattern(gray, P=LBP_POINTS, R=LBP_RADIUS, method='default')\n",
    "    hist, _ = np.histogram(lbp.ravel(), bins=np.arange(0, LBP_POINTS + 3), density=True)\n",
    "    return hist\n",
    "\n",
    "# --- Color Histograms (HSV) ---\n",
    "def extract_color_histogram(image, bins=32):\n",
    "    hsv = rgb2hsv(image)\n",
    "    h_hist = np.histogram(hsv[:, :, 0], bins=bins, range=(0, 1), density=True)[0]\n",
    "    s_hist = np.histogram(hsv[:, :, 1], bins=bins, range=(0, 1), density=True)[0]\n",
    "    v_hist = np.histogram(hsv[:, :, 2], bins=bins, range=(0, 1), density=True)[0]\n",
    "    return np.concatenate([h_hist, s_hist, v_hist])\n",
    "\n",
    "# --- GLCM ---\n",
    "def extract_glcm_features(image):\n",
    "    gray = (rgb2gray(image) * 255).astype(np.uint8)\n",
    "    glcm = graycomatrix(gray,\n",
    "                        distances=GLCM_DISTANCES,\n",
    "                        angles=GLCM_ANGLES,\n",
    "                        symmetric=True,\n",
    "                        normed=True)\n",
    "    features = []\n",
    "    for prop in GLCM_PROPS:\n",
    "        features.extend(graycoprops(glcm, prop).flatten())\n",
    "    return np.array(features)\n",
    "\n",
    "# --- Wavelet ---\n",
    "def extract_wavelet_features(image, wavelet='haar', level=2, max_coeffs=1000):\n",
    "    gray = rgb2gray(image)\n",
    "    coeffs = pywt.wavedec2(gray, wavelet=wavelet, level=level)\n",
    "    coeffs_flat = []\n",
    "    for coeff in coeffs:\n",
    "        if isinstance(coeff, tuple):\n",
    "            for arr in coeff:\n",
    "                coeffs_flat.extend(arr.ravel())\n",
    "        else:\n",
    "            coeffs_flat.extend(coeff.ravel())\n",
    "    return np.array(coeffs_flat[:max_coeffs])  # cap size\n",
    "\n",
    "# --- Laplace ---\n",
    "def extract_laplace_features(image):\n",
    "    gray = rgb2gray(image)\n",
    "    laplace = np.abs(cv2.Laplacian(gray, cv2.CV_64F))\n",
    "    hist, _ = np.histogram(laplace.ravel(), bins=32, range=(0, np.max(laplace)), density=True)\n",
    "    return hist\n",
    "\n",
    "# --- PCA utilities ---\n",
    "def get_PCA(X_list, n_components=2):\n",
    "    pca_list, xpca_list = [], []\n",
    "    for X in X_list:\n",
    "        pca = PCA(n_components=n_components)\n",
    "        X_pca = pca.fit_transform(X)\n",
    "        pca_list.append(pca)\n",
    "        xpca_list.append(X_pca)\n",
    "    return pca_list, xpca_list\n",
    "\n",
    "def plot_PCA(X_list, n_components=2):\n",
    "    pca_list, xpca_list = get_PCA(X_list, n_components=n_components)\n",
    "    plt.figure(figsize=(15, 5))\n",
    "    colors = ['b-', 'm-', 'g-', 'r-', 'c-', 'y-']\n",
    "    labels = ['HOG', 'LBP', 'Color Hist', 'GLCM', 'Wavelet', 'Laplace']\n",
    "    for i in range(len(X_list)):\n",
    "        plt.plot(np.cumsum(pca_list[i].explained_variance_ratio_), colors[i], label=labels[i])\n",
    "    plt.xticks(np.arange(n_components) + 1)\n",
    "    plt.yticks(np.linspace(0, 1, 8))\n",
    "    plt.grid(True)\n",
    "    plt.xlabel('Number of components')\n",
    "    plt.ylabel('Explained Variance')\n",
    "    plt.legend()\n",
    "    plt.show()\n",
    "\n",
    "# --- Main feature extraction ---\n",
    "def extract_all_features(metadata_df, image_base_path):\n",
    "    hog_list = []\n",
    "    lbp_list = []\n",
    "    color_list = []\n",
    "    glcm_list = []\n",
    "    wavelet_list = []\n",
    "    laplace_list = []\n",
    "\n",
    "    for image_name in tqdm.tqdm(metadata_df['image']):\n",
    "        image_path = os.path.join(image_base_path, image_name)\n",
    "        image = load_image(image_path)\n",
    "\n",
    "        hog_list.append(extract_hog_features(image))\n",
    "        lbp_list.append(extract_lbp_features(image))\n",
    "        color_list.append(extract_color_histogram(image))\n",
    "        glcm_list.append(extract_glcm_features(image))\n",
    "        wavelet_list.append(extract_wavelet_features(image))\n",
    "        laplace_list.append(extract_laplace_features(image))\n",
    "\n",
    "    return {\n",
    "        'hog': np.array(hog_list),\n",
    "        'lbp': np.array(lbp_list),\n",
    "        'color': np.array(color_list),\n",
    "        'glcm': np.array(glcm_list),\n",
    "        'wavelet': np.array(wavelet_list),\n",
    "        'laplace': np.array(laplace_list)\n",
    "    }\n",
    "\n",
    "def extract_all_features_batched(metadata_df, image_base_path, batch_size=100, output_dir=\"features_batches\"):\n",
    "    os.makedirs(output_dir, exist_ok=True)\n",
    "    num_images = len(metadata_df)\n",
    "    for start in range(0, num_images, batch_size):\n",
    "        print(f\"Processing batch {start} to {start + batch_size}\")\n",
    "        end = min(start + batch_size, num_images)\n",
    "        batch_df = metadata_df.iloc[start:end]\n",
    "        hog_list, lbp_list, color_list, glcm_list, wavelet_list, laplace_list = [], [], [], [], [], []\n",
    "\n",
    "        for image_name in tqdm.tqdm(batch_df['image']):\n",
    "            image_path = os.path.join(image_base_path, image_name)\n",
    "            image = load_image(image_path)\n",
    "            hog_list.append(extract_hog_features(image))\n",
    "            lbp_list.append(extract_lbp_features(image))\n",
    "            color_list.append(extract_color_histogram(image))\n",
    "            glcm_list.append(extract_glcm_features(image))\n",
    "            wavelet_list.append(extract_wavelet_features(image))\n",
    "            laplace_list.append(extract_laplace_features(image))\n",
    "\n",
    "        # Save each feature type for this batch\n",
    "        np.save(os.path.join(output_dir, f\"hog_{start}_{end}.npy\"), np.array(hog_list))\n",
    "        np.save(os.path.join(output_dir, f\"lbp_{start}_{end}.npy\"), np.array(lbp_list))\n",
    "        np.save(os.path.join(output_dir, f\"color_{start}_{end}.npy\"), np.array(color_list))\n",
    "        np.save(os.path.join(output_dir, f\"glcm_{start}_{end}.npy\"), np.array(glcm_list))\n",
    "        np.save(os.path.join(output_dir, f\"wavelet_{start}_{end}.npy\"), np.array(wavelet_list))\n",
    "        np.save(os.path.join(output_dir, f\"laplace_{start}_{end}.npy\"), np.array(laplace_list))\n",
    "        print(f\"Saved batch {start}-{end}\")\n"
   ]
  },
  {
   "cell_type": "code",
   "execution_count": 25,
   "id": "93287d38",
   "metadata": {},
   "outputs": [
    {
     "name": "stdout",
     "output_type": "stream",
     "text": [
      "Processing batch 0 to 100\n"
     ]
    },
    {
     "name": "stderr",
     "output_type": "stream",
     "text": [
      "  0%|          | 0/100 [00:00<?, ?it/s]/opt/anaconda3/lib/python3.12/site-packages/skimage/feature/texture.py:360: UserWarning: Applying `local_binary_pattern` to floating-point images may give unexpected results when small numerical differences between adjacent pixels are present. It is recommended to use this function with images of integer dtype.\n",
      "  warnings.warn(\n",
      "100%|██████████| 100/100 [00:14<00:00,  6.77it/s]\n"
     ]
    },
    {
     "name": "stdout",
     "output_type": "stream",
     "text": [
      "Saved batch 0-100\n",
      "Processing batch 100 to 200\n"
     ]
    },
    {
     "name": "stderr",
     "output_type": "stream",
     "text": [
      "100%|██████████| 100/100 [00:14<00:00,  6.74it/s]\n"
     ]
    },
    {
     "name": "stdout",
     "output_type": "stream",
     "text": [
      "Saved batch 100-200\n",
      "Processing batch 200 to 300\n"
     ]
    },
    {
     "name": "stderr",
     "output_type": "stream",
     "text": [
      "100%|██████████| 100/100 [00:14<00:00,  7.06it/s]\n"
     ]
    },
    {
     "name": "stdout",
     "output_type": "stream",
     "text": [
      "Saved batch 200-300\n",
      "Processing batch 300 to 400\n"
     ]
    },
    {
     "name": "stderr",
     "output_type": "stream",
     "text": [
      "100%|██████████| 100/100 [00:14<00:00,  7.14it/s]\n"
     ]
    },
    {
     "name": "stdout",
     "output_type": "stream",
     "text": [
      "Saved batch 300-400\n",
      "Processing batch 400 to 500\n"
     ]
    },
    {
     "name": "stderr",
     "output_type": "stream",
     "text": [
      "100%|██████████| 100/100 [00:17<00:00,  5.58it/s]\n"
     ]
    },
    {
     "name": "stdout",
     "output_type": "stream",
     "text": [
      "Saved batch 400-500\n",
      "Processing batch 500 to 600\n"
     ]
    },
    {
     "name": "stderr",
     "output_type": "stream",
     "text": [
      "100%|██████████| 100/100 [00:13<00:00,  7.30it/s]\n"
     ]
    },
    {
     "name": "stdout",
     "output_type": "stream",
     "text": [
      "Saved batch 500-600\n",
      "Processing batch 600 to 700\n"
     ]
    },
    {
     "name": "stderr",
     "output_type": "stream",
     "text": [
      "100%|██████████| 100/100 [00:13<00:00,  7.22it/s]\n"
     ]
    },
    {
     "name": "stdout",
     "output_type": "stream",
     "text": [
      "Saved batch 600-700\n",
      "Processing batch 700 to 800\n"
     ]
    },
    {
     "name": "stderr",
     "output_type": "stream",
     "text": [
      "100%|██████████| 100/100 [00:13<00:00,  7.30it/s]\n"
     ]
    },
    {
     "name": "stdout",
     "output_type": "stream",
     "text": [
      "Saved batch 700-800\n",
      "Processing batch 800 to 900\n"
     ]
    },
    {
     "name": "stderr",
     "output_type": "stream",
     "text": [
      "100%|██████████| 100/100 [00:13<00:00,  7.26it/s]\n"
     ]
    },
    {
     "name": "stdout",
     "output_type": "stream",
     "text": [
      "Saved batch 800-900\n",
      "Processing batch 900 to 1000\n"
     ]
    },
    {
     "name": "stderr",
     "output_type": "stream",
     "text": [
      "100%|██████████| 100/100 [00:13<00:00,  7.27it/s]\n"
     ]
    },
    {
     "name": "stdout",
     "output_type": "stream",
     "text": [
      "Saved batch 900-1000\n",
      "Processing batch 1000 to 1100\n"
     ]
    },
    {
     "name": "stderr",
     "output_type": "stream",
     "text": [
      "100%|██████████| 100/100 [00:13<00:00,  7.30it/s]\n"
     ]
    },
    {
     "name": "stdout",
     "output_type": "stream",
     "text": [
      "Saved batch 1000-1100\n",
      "Processing batch 1100 to 1200\n"
     ]
    },
    {
     "name": "stderr",
     "output_type": "stream",
     "text": [
      "100%|██████████| 100/100 [00:13<00:00,  7.28it/s]\n"
     ]
    },
    {
     "name": "stdout",
     "output_type": "stream",
     "text": [
      "Saved batch 1100-1200\n",
      "Processing batch 1200 to 1300\n"
     ]
    },
    {
     "name": "stderr",
     "output_type": "stream",
     "text": [
      "100%|██████████| 100/100 [00:13<00:00,  7.27it/s]\n"
     ]
    },
    {
     "name": "stdout",
     "output_type": "stream",
     "text": [
      "Saved batch 1200-1300\n",
      "Processing batch 1300 to 1400\n"
     ]
    },
    {
     "name": "stderr",
     "output_type": "stream",
     "text": [
      "100%|██████████| 100/100 [12:06<00:00,  7.26s/it]\n"
     ]
    },
    {
     "name": "stdout",
     "output_type": "stream",
     "text": [
      "Saved batch 1300-1400\n",
      "Processing batch 1400 to 1500\n"
     ]
    },
    {
     "name": "stderr",
     "output_type": "stream",
     "text": [
      "100%|██████████| 100/100 [00:19<00:00,  5.07it/s]\n"
     ]
    },
    {
     "name": "stdout",
     "output_type": "stream",
     "text": [
      "Saved batch 1400-1500\n",
      "Processing batch 1500 to 1600\n"
     ]
    },
    {
     "name": "stderr",
     "output_type": "stream",
     "text": [
      "100%|██████████| 100/100 [00:51<00:00,  1.95it/s]\n"
     ]
    },
    {
     "name": "stdout",
     "output_type": "stream",
     "text": [
      "Saved batch 1500-1600\n",
      "Processing batch 1600 to 1700\n"
     ]
    },
    {
     "name": "stderr",
     "output_type": "stream",
     "text": [
      "100%|██████████| 100/100 [00:38<00:00,  2.61it/s]\n"
     ]
    },
    {
     "name": "stdout",
     "output_type": "stream",
     "text": [
      "Saved batch 1600-1700\n",
      "Processing batch 1700 to 1800\n"
     ]
    },
    {
     "name": "stderr",
     "output_type": "stream",
     "text": [
      "100%|██████████| 100/100 [00:17<00:00,  5.72it/s]\n"
     ]
    },
    {
     "name": "stdout",
     "output_type": "stream",
     "text": [
      "Saved batch 1700-1800\n",
      "Processing batch 1800 to 1900\n"
     ]
    },
    {
     "name": "stderr",
     "output_type": "stream",
     "text": [
      "100%|██████████| 100/100 [00:13<00:00,  7.40it/s]\n"
     ]
    },
    {
     "name": "stdout",
     "output_type": "stream",
     "text": [
      "Saved batch 1800-1900\n",
      "Processing batch 1900 to 2000\n"
     ]
    },
    {
     "name": "stderr",
     "output_type": "stream",
     "text": [
      "100%|██████████| 100/100 [00:15<00:00,  6.41it/s]\n"
     ]
    },
    {
     "name": "stdout",
     "output_type": "stream",
     "text": [
      "Saved batch 1900-2000\n",
      "Processing batch 2000 to 2100\n"
     ]
    },
    {
     "name": "stderr",
     "output_type": "stream",
     "text": [
      "100%|██████████| 100/100 [00:13<00:00,  7.24it/s]\n"
     ]
    },
    {
     "name": "stdout",
     "output_type": "stream",
     "text": [
      "Saved batch 2000-2100\n",
      "Processing batch 2100 to 2200\n"
     ]
    },
    {
     "name": "stderr",
     "output_type": "stream",
     "text": [
      "100%|██████████| 100/100 [00:13<00:00,  7.39it/s]\n"
     ]
    },
    {
     "name": "stdout",
     "output_type": "stream",
     "text": [
      "Saved batch 2100-2200\n",
      "Processing batch 2200 to 2300\n"
     ]
    },
    {
     "name": "stderr",
     "output_type": "stream",
     "text": [
      "100%|██████████| 100/100 [00:13<00:00,  7.15it/s]\n"
     ]
    },
    {
     "name": "stdout",
     "output_type": "stream",
     "text": [
      "Saved batch 2200-2300\n",
      "Processing batch 2300 to 2400\n"
     ]
    },
    {
     "name": "stderr",
     "output_type": "stream",
     "text": [
      "100%|██████████| 100/100 [00:13<00:00,  7.26it/s]\n"
     ]
    },
    {
     "name": "stdout",
     "output_type": "stream",
     "text": [
      "Saved batch 2300-2400\n",
      "Processing batch 2400 to 2500\n"
     ]
    },
    {
     "name": "stderr",
     "output_type": "stream",
     "text": [
      "100%|██████████| 100/100 [00:16<00:00,  5.94it/s]\n"
     ]
    },
    {
     "name": "stdout",
     "output_type": "stream",
     "text": [
      "Saved batch 2400-2500\n",
      "Processing batch 2500 to 2600\n"
     ]
    },
    {
     "name": "stderr",
     "output_type": "stream",
     "text": [
      "100%|██████████| 100/100 [00:13<00:00,  7.52it/s]\n"
     ]
    },
    {
     "name": "stdout",
     "output_type": "stream",
     "text": [
      "Saved batch 2500-2600\n",
      "Processing batch 2600 to 2700\n"
     ]
    },
    {
     "name": "stderr",
     "output_type": "stream",
     "text": [
      "100%|██████████| 100/100 [00:13<00:00,  7.58it/s]\n"
     ]
    },
    {
     "name": "stdout",
     "output_type": "stream",
     "text": [
      "Saved batch 2600-2700\n",
      "Processing batch 2700 to 2800\n"
     ]
    },
    {
     "name": "stderr",
     "output_type": "stream",
     "text": [
      "100%|██████████| 100/100 [00:13<00:00,  7.56it/s]\n"
     ]
    },
    {
     "name": "stdout",
     "output_type": "stream",
     "text": [
      "Saved batch 2700-2800\n",
      "Processing batch 2800 to 2900\n"
     ]
    },
    {
     "name": "stderr",
     "output_type": "stream",
     "text": [
      "100%|██████████| 100/100 [00:13<00:00,  7.50it/s]\n"
     ]
    },
    {
     "name": "stdout",
     "output_type": "stream",
     "text": [
      "Saved batch 2800-2900\n",
      "Processing batch 2900 to 3000\n"
     ]
    },
    {
     "name": "stderr",
     "output_type": "stream",
     "text": [
      "100%|██████████| 100/100 [00:13<00:00,  7.59it/s]\n"
     ]
    },
    {
     "name": "stdout",
     "output_type": "stream",
     "text": [
      "Saved batch 2900-3000\n",
      "Processing batch 3000 to 3100\n"
     ]
    },
    {
     "name": "stderr",
     "output_type": "stream",
     "text": [
      "100%|██████████| 100/100 [00:13<00:00,  7.59it/s]\n"
     ]
    },
    {
     "name": "stdout",
     "output_type": "stream",
     "text": [
      "Saved batch 3000-3100\n",
      "Processing batch 3100 to 3200\n"
     ]
    },
    {
     "name": "stderr",
     "output_type": "stream",
     "text": [
      "100%|██████████| 100/100 [00:13<00:00,  7.60it/s]\n"
     ]
    },
    {
     "name": "stdout",
     "output_type": "stream",
     "text": [
      "Saved batch 3100-3200\n",
      "Processing batch 3200 to 3300\n"
     ]
    },
    {
     "name": "stderr",
     "output_type": "stream",
     "text": [
      "100%|██████████| 100/100 [00:13<00:00,  7.55it/s]\n"
     ]
    },
    {
     "name": "stdout",
     "output_type": "stream",
     "text": [
      "Saved batch 3200-3300\n",
      "Processing batch 3300 to 3400\n"
     ]
    },
    {
     "name": "stderr",
     "output_type": "stream",
     "text": [
      "100%|██████████| 100/100 [00:13<00:00,  7.48it/s]\n"
     ]
    },
    {
     "name": "stdout",
     "output_type": "stream",
     "text": [
      "Saved batch 3300-3400\n",
      "Processing batch 3400 to 3500\n"
     ]
    },
    {
     "name": "stderr",
     "output_type": "stream",
     "text": [
      "100%|██████████| 100/100 [01:25<00:00,  1.17it/s]\n"
     ]
    },
    {
     "name": "stdout",
     "output_type": "stream",
     "text": [
      "Saved batch 3400-3500\n",
      "Processing batch 3500 to 3600\n"
     ]
    },
    {
     "name": "stderr",
     "output_type": "stream",
     "text": [
      "100%|██████████| 100/100 [00:18<00:00,  5.35it/s]\n"
     ]
    },
    {
     "name": "stdout",
     "output_type": "stream",
     "text": [
      "Saved batch 3500-3600\n",
      "Processing batch 3600 to 3700\n"
     ]
    },
    {
     "name": "stderr",
     "output_type": "stream",
     "text": [
      "100%|██████████| 100/100 [00:13<00:00,  7.42it/s]\n"
     ]
    },
    {
     "name": "stdout",
     "output_type": "stream",
     "text": [
      "Saved batch 3600-3700\n",
      "Processing batch 3700 to 3800\n"
     ]
    },
    {
     "name": "stderr",
     "output_type": "stream",
     "text": [
      "100%|██████████| 100/100 [00:15<00:00,  6.26it/s]\n"
     ]
    },
    {
     "name": "stdout",
     "output_type": "stream",
     "text": [
      "Saved batch 3700-3800\n",
      "Processing batch 3800 to 3900\n"
     ]
    },
    {
     "name": "stderr",
     "output_type": "stream",
     "text": [
      "100%|██████████| 100/100 [00:20<00:00,  4.78it/s]\n"
     ]
    },
    {
     "name": "stdout",
     "output_type": "stream",
     "text": [
      "Saved batch 3800-3900\n",
      "Processing batch 3900 to 4000\n"
     ]
    },
    {
     "name": "stderr",
     "output_type": "stream",
     "text": [
      "100%|██████████| 100/100 [00:16<00:00,  6.04it/s]\n"
     ]
    },
    {
     "name": "stdout",
     "output_type": "stream",
     "text": [
      "Saved batch 3900-4000\n",
      "Processing batch 4000 to 4100\n"
     ]
    },
    {
     "name": "stderr",
     "output_type": "stream",
     "text": [
      "100%|██████████| 100/100 [00:14<00:00,  6.88it/s]\n"
     ]
    },
    {
     "name": "stdout",
     "output_type": "stream",
     "text": [
      "Saved batch 4000-4100\n",
      "Processing batch 4100 to 4200\n"
     ]
    },
    {
     "name": "stderr",
     "output_type": "stream",
     "text": [
      "100%|██████████| 100/100 [00:16<00:00,  5.97it/s]\n"
     ]
    },
    {
     "name": "stdout",
     "output_type": "stream",
     "text": [
      "Saved batch 4100-4200\n",
      "Processing batch 4200 to 4300\n"
     ]
    },
    {
     "name": "stderr",
     "output_type": "stream",
     "text": [
      "100%|██████████| 100/100 [00:14<00:00,  6.76it/s]\n"
     ]
    },
    {
     "name": "stdout",
     "output_type": "stream",
     "text": [
      "Saved batch 4200-4300\n",
      "Processing batch 4300 to 4400\n"
     ]
    },
    {
     "name": "stderr",
     "output_type": "stream",
     "text": [
      "100%|██████████| 100/100 [00:14<00:00,  7.14it/s]\n"
     ]
    },
    {
     "name": "stdout",
     "output_type": "stream",
     "text": [
      "Saved batch 4300-4400\n",
      "Processing batch 4400 to 4500\n"
     ]
    },
    {
     "name": "stderr",
     "output_type": "stream",
     "text": [
      "100%|██████████| 100/100 [00:13<00:00,  7.28it/s]\n"
     ]
    },
    {
     "name": "stdout",
     "output_type": "stream",
     "text": [
      "Saved batch 4400-4500\n",
      "Processing batch 4500 to 4600\n"
     ]
    },
    {
     "name": "stderr",
     "output_type": "stream",
     "text": [
      "100%|██████████| 100/100 [00:14<00:00,  6.97it/s]\n"
     ]
    },
    {
     "name": "stdout",
     "output_type": "stream",
     "text": [
      "Saved batch 4500-4600\n",
      "Processing batch 4600 to 4700\n"
     ]
    },
    {
     "name": "stderr",
     "output_type": "stream",
     "text": [
      "100%|██████████| 100/100 [00:14<00:00,  7.07it/s]\n"
     ]
    },
    {
     "name": "stdout",
     "output_type": "stream",
     "text": [
      "Saved batch 4600-4700\n",
      "Processing batch 4700 to 4800\n"
     ]
    },
    {
     "name": "stderr",
     "output_type": "stream",
     "text": [
      "100%|██████████| 100/100 [00:13<00:00,  7.28it/s]\n"
     ]
    },
    {
     "name": "stdout",
     "output_type": "stream",
     "text": [
      "Saved batch 4700-4800\n",
      "Processing batch 4800 to 4900\n"
     ]
    },
    {
     "name": "stderr",
     "output_type": "stream",
     "text": [
      "100%|██████████| 100/100 [00:16<00:00,  6.07it/s]\n"
     ]
    },
    {
     "name": "stdout",
     "output_type": "stream",
     "text": [
      "Saved batch 4800-4900\n",
      "Processing batch 4900 to 5000\n"
     ]
    },
    {
     "name": "stderr",
     "output_type": "stream",
     "text": [
      "100%|██████████| 100/100 [00:16<00:00,  5.94it/s]\n"
     ]
    },
    {
     "name": "stdout",
     "output_type": "stream",
     "text": [
      "Saved batch 4900-5000\n",
      "Processing batch 5000 to 5100\n"
     ]
    },
    {
     "name": "stderr",
     "output_type": "stream",
     "text": [
      "100%|██████████| 100/100 [00:16<00:00,  6.16it/s]\n"
     ]
    },
    {
     "name": "stdout",
     "output_type": "stream",
     "text": [
      "Saved batch 5000-5100\n",
      "Processing batch 5100 to 5200\n"
     ]
    },
    {
     "name": "stderr",
     "output_type": "stream",
     "text": [
      "100%|██████████| 100/100 [00:13<00:00,  7.54it/s]\n"
     ]
    },
    {
     "name": "stdout",
     "output_type": "stream",
     "text": [
      "Saved batch 5100-5200\n",
      "Processing batch 5200 to 5300\n"
     ]
    },
    {
     "name": "stderr",
     "output_type": "stream",
     "text": [
      "100%|██████████| 100/100 [00:17<00:00,  5.77it/s]\n"
     ]
    },
    {
     "name": "stdout",
     "output_type": "stream",
     "text": [
      "Saved batch 5200-5300\n",
      "Processing batch 5300 to 5400\n"
     ]
    },
    {
     "name": "stderr",
     "output_type": "stream",
     "text": [
      "100%|██████████| 100/100 [00:16<00:00,  5.90it/s]\n"
     ]
    },
    {
     "name": "stdout",
     "output_type": "stream",
     "text": [
      "Saved batch 5300-5400\n",
      "Processing batch 5400 to 5500\n"
     ]
    },
    {
     "name": "stderr",
     "output_type": "stream",
     "text": [
      "100%|██████████| 100/100 [00:13<00:00,  7.45it/s]\n"
     ]
    },
    {
     "name": "stdout",
     "output_type": "stream",
     "text": [
      "Saved batch 5400-5500\n",
      "Processing batch 5500 to 5600\n"
     ]
    },
    {
     "name": "stderr",
     "output_type": "stream",
     "text": [
      "100%|██████████| 100/100 [00:13<00:00,  7.40it/s]\n"
     ]
    },
    {
     "name": "stdout",
     "output_type": "stream",
     "text": [
      "Saved batch 5500-5600\n",
      "Processing batch 5600 to 5700\n"
     ]
    },
    {
     "name": "stderr",
     "output_type": "stream",
     "text": [
      "100%|██████████| 100/100 [00:13<00:00,  7.51it/s]\n"
     ]
    },
    {
     "name": "stdout",
     "output_type": "stream",
     "text": [
      "Saved batch 5600-5700\n",
      "Processing batch 5700 to 5800\n"
     ]
    },
    {
     "name": "stderr",
     "output_type": "stream",
     "text": [
      "100%|██████████| 100/100 [00:13<00:00,  7.42it/s]\n"
     ]
    },
    {
     "name": "stdout",
     "output_type": "stream",
     "text": [
      "Saved batch 5700-5800\n",
      "Processing batch 5800 to 5900\n"
     ]
    },
    {
     "name": "stderr",
     "output_type": "stream",
     "text": [
      "100%|██████████| 100/100 [00:13<00:00,  7.59it/s]\n"
     ]
    },
    {
     "name": "stdout",
     "output_type": "stream",
     "text": [
      "Saved batch 5800-5900\n",
      "Processing batch 5900 to 6000\n"
     ]
    },
    {
     "name": "stderr",
     "output_type": "stream",
     "text": [
      "100%|██████████| 100/100 [00:13<00:00,  7.41it/s]\n"
     ]
    },
    {
     "name": "stdout",
     "output_type": "stream",
     "text": [
      "Saved batch 5900-6000\n",
      "Processing batch 6000 to 6100\n"
     ]
    },
    {
     "name": "stderr",
     "output_type": "stream",
     "text": [
      "100%|██████████| 100/100 [04:11<00:00,  2.52s/it]\n"
     ]
    },
    {
     "name": "stdout",
     "output_type": "stream",
     "text": [
      "Saved batch 6000-6100\n",
      "Processing batch 6100 to 6200\n"
     ]
    },
    {
     "name": "stderr",
     "output_type": "stream",
     "text": [
      "100%|██████████| 100/100 [00:14<00:00,  7.02it/s]\n"
     ]
    },
    {
     "name": "stdout",
     "output_type": "stream",
     "text": [
      "Saved batch 6100-6200\n",
      "Processing batch 6200 to 6300\n"
     ]
    },
    {
     "name": "stderr",
     "output_type": "stream",
     "text": [
      "100%|██████████| 100/100 [00:13<00:00,  7.22it/s]\n"
     ]
    },
    {
     "name": "stdout",
     "output_type": "stream",
     "text": [
      "Saved batch 6200-6300\n",
      "Processing batch 6300 to 6400\n"
     ]
    },
    {
     "name": "stderr",
     "output_type": "stream",
     "text": [
      "100%|██████████| 100/100 [00:14<00:00,  6.73it/s]\n"
     ]
    },
    {
     "name": "stdout",
     "output_type": "stream",
     "text": [
      "Saved batch 6300-6400\n",
      "Processing batch 6400 to 6500\n"
     ]
    },
    {
     "name": "stderr",
     "output_type": "stream",
     "text": [
      "100%|██████████| 100/100 [00:15<00:00,  6.38it/s]\n"
     ]
    },
    {
     "name": "stdout",
     "output_type": "stream",
     "text": [
      "Saved batch 6400-6500\n",
      "Processing batch 6500 to 6600\n"
     ]
    },
    {
     "name": "stderr",
     "output_type": "stream",
     "text": [
      "100%|██████████| 100/100 [00:14<00:00,  6.78it/s]\n"
     ]
    },
    {
     "name": "stdout",
     "output_type": "stream",
     "text": [
      "Saved batch 6500-6600\n",
      "Processing batch 6600 to 6700\n"
     ]
    },
    {
     "name": "stderr",
     "output_type": "stream",
     "text": [
      "100%|██████████| 100/100 [00:14<00:00,  6.88it/s]\n"
     ]
    },
    {
     "name": "stdout",
     "output_type": "stream",
     "text": [
      "Saved batch 6600-6700\n",
      "Processing batch 6700 to 6800\n"
     ]
    },
    {
     "name": "stderr",
     "output_type": "stream",
     "text": [
      "100%|██████████| 100/100 [00:14<00:00,  7.14it/s]\n"
     ]
    },
    {
     "name": "stdout",
     "output_type": "stream",
     "text": [
      "Saved batch 6700-6800\n",
      "Processing batch 6800 to 6900\n"
     ]
    },
    {
     "name": "stderr",
     "output_type": "stream",
     "text": [
      "100%|██████████| 100/100 [00:14<00:00,  6.94it/s]\n"
     ]
    },
    {
     "name": "stdout",
     "output_type": "stream",
     "text": [
      "Saved batch 6800-6900\n",
      "Processing batch 6900 to 7000\n"
     ]
    },
    {
     "name": "stderr",
     "output_type": "stream",
     "text": [
      "100%|██████████| 100/100 [00:14<00:00,  6.72it/s]\n"
     ]
    },
    {
     "name": "stdout",
     "output_type": "stream",
     "text": [
      "Saved batch 6900-7000\n",
      "Processing batch 7000 to 7100\n"
     ]
    },
    {
     "name": "stderr",
     "output_type": "stream",
     "text": [
      "100%|██████████| 100/100 [00:14<00:00,  6.71it/s]\n"
     ]
    },
    {
     "name": "stdout",
     "output_type": "stream",
     "text": [
      "Saved batch 7000-7100\n",
      "Processing batch 7100 to 7200\n"
     ]
    },
    {
     "name": "stderr",
     "output_type": "stream",
     "text": [
      "100%|██████████| 100/100 [00:15<00:00,  6.64it/s]\n"
     ]
    },
    {
     "name": "stdout",
     "output_type": "stream",
     "text": [
      "Saved batch 7100-7200\n",
      "Processing batch 7200 to 7300\n"
     ]
    },
    {
     "name": "stderr",
     "output_type": "stream",
     "text": [
      "100%|██████████| 100/100 [00:14<00:00,  6.93it/s]\n"
     ]
    },
    {
     "name": "stdout",
     "output_type": "stream",
     "text": [
      "Saved batch 7200-7300\n",
      "Processing batch 7300 to 7400\n"
     ]
    },
    {
     "name": "stderr",
     "output_type": "stream",
     "text": [
      "100%|██████████| 100/100 [00:15<00:00,  6.30it/s]\n"
     ]
    },
    {
     "name": "stdout",
     "output_type": "stream",
     "text": [
      "Saved batch 7300-7400\n",
      "Processing batch 7400 to 7500\n"
     ]
    },
    {
     "name": "stderr",
     "output_type": "stream",
     "text": [
      "100%|██████████| 100/100 [00:15<00:00,  6.46it/s]\n"
     ]
    },
    {
     "name": "stdout",
     "output_type": "stream",
     "text": [
      "Saved batch 7400-7500\n",
      "Processing batch 7500 to 7600\n"
     ]
    },
    {
     "name": "stderr",
     "output_type": "stream",
     "text": [
      "100%|██████████| 100/100 [00:14<00:00,  6.94it/s]\n"
     ]
    },
    {
     "name": "stdout",
     "output_type": "stream",
     "text": [
      "Saved batch 7500-7600\n",
      "Processing batch 7600 to 7700\n"
     ]
    },
    {
     "name": "stderr",
     "output_type": "stream",
     "text": [
      "100%|██████████| 100/100 [00:15<00:00,  6.55it/s]\n"
     ]
    },
    {
     "name": "stdout",
     "output_type": "stream",
     "text": [
      "Saved batch 7600-7700\n",
      "Processing batch 7700 to 7800\n"
     ]
    },
    {
     "name": "stderr",
     "output_type": "stream",
     "text": [
      "100%|██████████| 100/100 [00:14<00:00,  6.94it/s]\n"
     ]
    },
    {
     "name": "stdout",
     "output_type": "stream",
     "text": [
      "Saved batch 7700-7800\n",
      "Processing batch 7800 to 7900\n"
     ]
    },
    {
     "name": "stderr",
     "output_type": "stream",
     "text": [
      "100%|██████████| 100/100 [00:15<00:00,  6.59it/s]\n"
     ]
    },
    {
     "name": "stdout",
     "output_type": "stream",
     "text": [
      "Saved batch 7800-7900\n",
      "Processing batch 7900 to 8000\n"
     ]
    },
    {
     "name": "stderr",
     "output_type": "stream",
     "text": [
      "100%|██████████| 100/100 [00:13<00:00,  7.21it/s]"
     ]
    },
    {
     "name": "stdout",
     "output_type": "stream",
     "text": [
      "Saved batch 7900-8000\n"
     ]
    },
    {
     "name": "stderr",
     "output_type": "stream",
     "text": [
      "\n"
     ]
    }
   ],
   "source": [
    "\n",
    "extract_all_features_batched(metadata_df, image_base_path=\"../datasets/ISIC_2019_cleaned_cropped_resized/\", batch_size=100)"
   ]
  },
  {
   "cell_type": "code",
   "execution_count": 26,
   "id": "430892a5",
   "metadata": {},
   "outputs": [],
   "source": [
    "import glob "
   ]
  },
  {
   "cell_type": "code",
   "execution_count": null,
   "id": "3ffb402f",
   "metadata": {},
   "outputs": [
    {
     "name": "stdout",
     "output_type": "stream",
     "text": [
      "hog: loaded 80 batches, shape (8000, 11664)\n",
      "lbp: loaded 80 batches, shape (8000, 26)\n",
      "color: loaded 80 batches, shape (8000, 96)\n",
      "glcm: loaded 80 batches, shape (8000, 72)\n",
      "wavelet: loaded 80 batches, shape (8000, 1000)\n"
     ]
    }
   ],
   "source": [
    "def load_and_concatenate_features(output_dir=\"features_batches\"):\n",
    "    feature_types = ['hog', 'lbp', 'color', 'glcm', 'wavelet', 'laplace']\n",
    "    features = {}\n",
    "    for ft in feature_types:\n",
    "        # Find all batch files for this feature type\n",
    "        files = sorted(glob.glob(os.path.join(output_dir, f\"{ft}_*.npy\")))\n",
    "        arrays = [np.load(f) for f in files]\n",
    "        features[ft] = np.concatenate(arrays, axis=0)\n",
    "        print(f\"{ft}: loaded {len(files)} batches, shape {features[ft].shape}\")\n",
    "    return features\n",
    "\n",
    "# Usage:\n",
    "features = load_and_concatenate_features(output_dir=\"features_batches\")"
   ]
  },
  {
   "cell_type": "code",
   "execution_count": 28,
   "id": "a11b47ff",
   "metadata": {},
   "outputs": [
    {
     "data": {
      "image/png": "[encoded data removed]",
      "text/plain": [
       "<Figure size 1500x500 with 1 Axes>"
      ]
     },
     "metadata": {},
     "output_type": "display_data"
    }
   ],
   "source": [
    "plot_PCA([features['hog'], features['lbp'], features['color'], features['glcm'], features['wavelet']], n_components=26)"
   ]
  },
  {
   "cell_type": "code",
   "execution_count": null,
   "id": "03c6da2d",
   "metadata": {},
   "outputs": [],
   "source": [
    "jupyter.viewOutput"
   ]
  },
  {
   "cell_type": "code",
   "execution_count": null,
   "id": "1501fc06",
   "metadata": {},
   "outputs": [],
   "source": []
  }
 ],
 "metadata": {
  "kernelspec": {
   "display_name": "base",
   "language": "python",
   "name": "python3"
  },
  "language_info": {
   "codemirror_mode": {
    "name": "ipython",
    "version": 3
   },
   "file_extension": ".py",
   "mimetype": "text/x-python",
   "name": "python",
   "nbconvert_exporter": "python",
   "pygments_lexer": "ipython3",
   "version": "3.12.7"
  }
 },
 "nbformat": 4,
 "nbformat_minor": 5
}
