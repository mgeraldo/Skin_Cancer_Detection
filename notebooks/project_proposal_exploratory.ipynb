{
 "cells": [
  {
   "cell_type": "code",
   "execution_count": 56,
   "id": "c96559b0",
   "metadata": {},
   "outputs": [],
   "source": [
    "import pandas as pd\n",
    "import numpy as np \n",
    "import matplotlib.pyplot as plt\n",
    "from tqdm import tqdm\n"
   ]
  },
  {
   "cell_type": "code",
   "execution_count": 57,
   "id": "ef0cbe8f",
   "metadata": {},
   "outputs": [],
   "source": [
    "isic_metadata = pd.read_csv('../datasets/ISIC_2019_Training_GroundTruth.csv')\n",
    "ham_metadata = pd.read_csv('../datasets/HAM10000_metadata.csv')"
   ]
  },
  {
   "cell_type": "code",
   "execution_count": 58,
   "id": "b0d9dda6",
   "metadata": {},
   "outputs": [],
   "source": [
    "id_col = 'image'  # Assuming 'image' is the ID column\n",
    "category_cols = [col for col in isic_metadata.columns if col != id_col]\n",
    "\n",
    "isic_unpivoted = pd.melt(\n",
    "    isic_metadata,\n",
    "    id_vars=[id_col],\n",
    "    value_vars=category_cols,\n",
    "    var_name='category',\n",
    "    value_name='present'\n",
    ")\n",
    "isic_unpivoted = isic_unpivoted[isic_unpivoted['present'] == 1]\n",
    "isic_unpivoted = isic_unpivoted.drop(columns=['present'])\n",
    "isic_unpivoted.reset_index(drop=True, inplace=True)"
   ]
  },
  {
   "cell_type": "code",
   "execution_count": 59,
   "id": "d5591cdc",
   "metadata": {},
   "outputs": [],
   "source": [
    "joint_df = pd.merge(left=isic_unpivoted, right=ham_metadata, left_on='image', right_on='image_id', how='inner')"
   ]
  },
  {
   "cell_type": "code",
   "execution_count": 60,
   "id": "ae769f74",
   "metadata": {},
   "outputs": [
    {
     "name": "stderr",
     "output_type": "stream",
     "text": [
      "1000it [00:12, 80.99it/s]"
     ]
    },
    {
     "name": "stdout",
     "output_type": "stream",
     "text": [
      "Percentage of matching images: 100.00%\n"
     ]
    },
    {
     "name": "stderr",
     "output_type": "stream",
     "text": [
      "\n"
     ]
    }
   ],
   "source": [
    "match_count = 0\n",
    "\n",
    "\n",
    "for i, row in tqdm(joint_df.sample(1000).iterrows()):\n",
    "    ham_path = f'../datasets/HAM10000_images_combined/{row[\"image_id\"]}.jpg'\n",
    "    isic_path = f'../datasets/ISIC_2019/{row[\"image\"]}.jpg'\n",
    "\n",
    "    ham_img = plt.imread(ham_path)\n",
    "    isic_img = plt.imread(isic_path)\n",
    "\n",
    "    if ham_img.shape == isic_img.shape:\n",
    "        dist = np.linalg.norm(ham_img - isic_img)\n",
    "        if dist < 1e-5: \n",
    "            match_count += 1\n",
    "\n",
    "print(f'Percentage of matching images: {match_count / 1000 * 100:.2f}%')\n",
    "        "
   ]
  },
  {
   "cell_type": "code",
   "execution_count": null,
   "id": "1039390c",
   "metadata": {},
   "outputs": [
    {
     "data": {
      "text/plain": [
       "1000"
      ]
     },
     "execution_count": 53,
     "metadata": {},
     "output_type": "execute_result"
    }
   ],
   "source": []
  },
  {
   "cell_type": "code",
   "execution_count": 73,
   "id": "d8f5cb68",
   "metadata": {},
   "outputs": [],
   "source": [
    "isic_train = pd.read_csv('../datasets/ISIC_2019_Training_GroundTruth.csv')\n",
    "isic_test = pd.read_csv('../datasets/ISIC_2019_Test_GroundTruth.csv')\n",
    "\n",
    "id_col = 'image'  # Assuming 'image' is the ID column\n",
    "category_cols = [col for col in isic_train.columns if col != id_col]\n",
    "\n",
    "isic_train_unpivoted = pd.melt(\n",
    "    isic_train,\n",
    "    id_vars=[id_col],\n",
    "    value_vars=category_cols,\n",
    "    var_name='category',\n",
    "    value_name='present'\n",
    ")\n",
    "isic_train_unpivoted = isic_train_unpivoted[isic_train_unpivoted['present'] == 1]\n",
    "isic_train_unpivoted = isic_train_unpivoted.drop(columns=['present'])\n",
    "isic_train_unpivoted.reset_index(drop=True, inplace=True)\n",
    "isic_train_unpivoted['dataset'] = 'train'\n",
    "\n",
    "\n",
    "category_cols = [col for col in isic_test.columns if col not in ['image', 'score_weight', 'validation_weight']]\n",
    "\n",
    "\n",
    "isic_test_unpivoted = pd.melt(\n",
    "    isic_test,\n",
    "    id_vars=[id_col],\n",
    "    value_vars=category_cols,\n",
    "    var_name='category',\n",
    "    value_name='present'\n",
    ")\n",
    "isic_test_unpivoted = isic_test_unpivoted[isic_test_unpivoted['present'] == 1]\n",
    "isic_test_unpivoted = isic_test_unpivoted.drop(columns=['present'])\n",
    "isic_test_unpivoted.reset_index(drop=True, inplace=True)\n",
    "isic_train_unpivoted['dataset'] = 'test'"
   ]
  },
  {
   "cell_type": "code",
   "execution_count": 74,
   "id": "88b0de74",
   "metadata": {},
   "outputs": [],
   "source": [
    "isic_combined = pd.concat([isic_train_unpivoted, isic_test_unpivoted], ignore_index=True)"
   ]
  },
  {
   "cell_type": "code",
   "execution_count": 75,
   "id": "45b2ab1c",
   "metadata": {},
   "outputs": [
    {
     "data": {
      "application/vnd.microsoft.datawrangler.viewer.v0+json": {
       "columns": [
        {
         "name": "index",
         "rawType": "int64",
         "type": "integer"
        },
        {
         "name": "image",
         "rawType": "object",
         "type": "string"
        },
        {
         "name": "MEL",
         "rawType": "float64",
         "type": "float"
        },
        {
         "name": "NV",
         "rawType": "float64",
         "type": "float"
        },
        {
         "name": "BCC",
         "rawType": "float64",
         "type": "float"
        },
        {
         "name": "AK",
         "rawType": "float64",
         "type": "float"
        },
        {
         "name": "BKL",
         "rawType": "float64",
         "type": "float"
        },
        {
         "name": "DF",
         "rawType": "float64",
         "type": "float"
        },
        {
         "name": "VASC",
         "rawType": "float64",
         "type": "float"
        },
        {
         "name": "SCC",
         "rawType": "float64",
         "type": "float"
        },
        {
         "name": "UNK",
         "rawType": "float64",
         "type": "float"
        },
        {
         "name": "score_weight",
         "rawType": "float64",
         "type": "float"
        },
        {
         "name": "validation_weight",
         "rawType": "float64",
         "type": "float"
        }
       ],
       "ref": "ed2dbe16-95e6-4b68-9882-8ea8e70ca502",
       "rows": [
        [
         "0",
         "ISIC_0034321",
         "0.0",
         "1.0",
         "0.0",
         "0.0",
         "0.0",
         "0.0",
         "0.0",
         "0.0",
         "0.0",
         "0.0",
         "1.0"
        ],
        [
         "1",
         "ISIC_0034322",
         "0.0",
         "1.0",
         "0.0",
         "0.0",
         "0.0",
         "0.0",
         "0.0",
         "0.0",
         "0.0",
         "0.0",
         "1.0"
        ],
        [
         "2",
         "ISIC_0034323",
         "0.0",
         "0.0",
         "1.0",
         "0.0",
         "0.0",
         "0.0",
         "0.0",
         "0.0",
         "0.0",
         "0.0",
         "1.0"
        ],
        [
         "3",
         "ISIC_0034324",
         "0.0",
         "1.0",
         "0.0",
         "0.0",
         "0.0",
         "0.0",
         "0.0",
         "0.0",
         "0.0",
         "0.0",
         "1.0"
        ],
        [
         "4",
         "ISIC_0034325",
         "0.0",
         "1.0",
         "0.0",
         "0.0",
         "0.0",
         "0.0",
         "0.0",
         "0.0",
         "0.0",
         "0.0",
         "1.0"
        ],
        [
         "5",
         "ISIC_0034326",
         "0.0",
         "0.0",
         "0.0",
         "0.0",
         "1.0",
         "0.0",
         "0.0",
         "0.0",
         "0.0",
         "0.0",
         "1.0"
        ],
        [
         "6",
         "ISIC_0034328",
         "0.0",
         "1.0",
         "0.0",
         "0.0",
         "0.0",
         "0.0",
         "0.0",
         "0.0",
         "0.0",
         "0.0",
         "1.0"
        ],
        [
         "7",
         "ISIC_0034329",
         "1.0",
         "0.0",
         "0.0",
         "0.0",
         "0.0",
         "0.0",
         "0.0",
         "0.0",
         "0.0",
         "0.0",
         "1.0"
        ],
        [
         "8",
         "ISIC_0034330",
         "0.0",
         "1.0",
         "0.0",
         "0.0",
         "0.0",
         "0.0",
         "0.0",
         "0.0",
         "0.0",
         "0.0",
         "1.0"
        ],
        [
         "9",
         "ISIC_0034331",
         "0.0",
         "1.0",
         "0.0",
         "0.0",
         "0.0",
         "0.0",
         "0.0",
         "0.0",
         "0.0",
         "0.0",
         "1.0"
        ],
        [
         "10",
         "ISIC_0034332",
         "0.0",
         "0.0",
         "0.0",
         "0.0",
         "0.0",
         "0.0",
         "0.0",
         "1.0",
         "0.0",
         "0.0",
         "1.0"
        ],
        [
         "11",
         "ISIC_0034333",
         "0.0",
         "0.0",
         "1.0",
         "0.0",
         "0.0",
         "0.0",
         "0.0",
         "0.0",
         "0.0",
         "0.0",
         "1.0"
        ],
        [
         "12",
         "ISIC_0034334",
         "0.0",
         "0.0",
         "0.0",
         "0.0",
         "0.0",
         "1.0",
         "0.0",
         "0.0",
         "0.0",
         "0.0",
         "1.0"
        ],
        [
         "13",
         "ISIC_0034335",
         "0.0",
         "1.0",
         "0.0",
         "0.0",
         "0.0",
         "0.0",
         "0.0",
         "0.0",
         "0.0",
         "0.0",
         "1.0"
        ],
        [
         "14",
         "ISIC_0034336",
         "0.0",
         "1.0",
         "0.0",
         "0.0",
         "0.0",
         "0.0",
         "0.0",
         "0.0",
         "0.0",
         "0.0",
         "1.0"
        ],
        [
         "15",
         "ISIC_0034337",
         "0.0",
         "1.0",
         "0.0",
         "0.0",
         "0.0",
         "0.0",
         "0.0",
         "0.0",
         "0.0",
         "0.0",
         "1.0"
        ],
        [
         "16",
         "ISIC_0034338",
         "0.0",
         "0.0",
         "1.0",
         "0.0",
         "0.0",
         "0.0",
         "0.0",
         "0.0",
         "0.0",
         "0.0",
         "1.0"
        ],
        [
         "17",
         "ISIC_0034339",
         "0.0",
         "1.0",
         "0.0",
         "0.0",
         "0.0",
         "0.0",
         "0.0",
         "0.0",
         "0.0",
         "0.0",
         "1.0"
        ],
        [
         "18",
         "ISIC_0034340",
         "0.0",
         "1.0",
         "0.0",
         "0.0",
         "0.0",
         "0.0",
         "0.0",
         "0.0",
         "0.0",
         "0.0",
         "1.0"
        ],
        [
         "19",
         "ISIC_0034341",
         "0.0",
         "1.0",
         "0.0",
         "0.0",
         "0.0",
         "0.0",
         "0.0",
         "0.0",
         "0.0",
         "0.0",
         "1.0"
        ],
        [
         "20",
         "ISIC_0034342",
         "0.0",
         "1.0",
         "0.0",
         "0.0",
         "0.0",
         "0.0",
         "0.0",
         "0.0",
         "0.0",
         "0.0",
         "1.0"
        ],
        [
         "21",
         "ISIC_0034343",
         "1.0",
         "0.0",
         "0.0",
         "0.0",
         "0.0",
         "0.0",
         "0.0",
         "0.0",
         "0.0",
         "0.0",
         "1.0"
        ],
        [
         "22",
         "ISIC_0034344",
         "0.0",
         "0.0",
         "1.0",
         "0.0",
         "0.0",
         "0.0",
         "0.0",
         "0.0",
         "0.0",
         "0.0",
         "1.0"
        ],
        [
         "23",
         "ISIC_0034345",
         "0.0",
         "0.0",
         "0.0",
         "0.0",
         "1.0",
         "0.0",
         "0.0",
         "0.0",
         "0.0",
         "0.0",
         "1.0"
        ],
        [
         "24",
         "ISIC_0034346",
         "0.0",
         "0.0",
         "1.0",
         "0.0",
         "0.0",
         "0.0",
         "0.0",
         "0.0",
         "0.0",
         "0.0",
         "1.0"
        ],
        [
         "25",
         "ISIC_0034347",
         "0.0",
         "1.0",
         "0.0",
         "0.0",
         "0.0",
         "0.0",
         "0.0",
         "0.0",
         "0.0",
         "0.0",
         "1.0"
        ],
        [
         "26",
         "ISIC_0034348",
         "0.0",
         "1.0",
         "0.0",
         "0.0",
         "0.0",
         "0.0",
         "0.0",
         "0.0",
         "0.0",
         "0.0",
         "1.0"
        ],
        [
         "27",
         "ISIC_0034349",
         "0.0",
         "1.0",
         "0.0",
         "0.0",
         "0.0",
         "0.0",
         "0.0",
         "0.0",
         "0.0",
         "0.0",
         "1.0"
        ],
        [
         "28",
         "ISIC_0034350",
         "0.0",
         "1.0",
         "0.0",
         "0.0",
         "0.0",
         "0.0",
         "0.0",
         "0.0",
         "0.0",
         "0.0",
         "1.0"
        ],
        [
         "29",
         "ISIC_0034351",
         "0.0",
         "1.0",
         "0.0",
         "0.0",
         "0.0",
         "0.0",
         "0.0",
         "0.0",
         "0.0",
         "0.0",
         "1.0"
        ],
        [
         "30",
         "ISIC_0034352",
         "0.0",
         "1.0",
         "0.0",
         "0.0",
         "0.0",
         "0.0",
         "0.0",
         "0.0",
         "0.0",
         "0.0",
         "1.0"
        ],
        [
         "31",
         "ISIC_0034354",
         "1.0",
         "0.0",
         "0.0",
         "0.0",
         "0.0",
         "0.0",
         "0.0",
         "0.0",
         "0.0",
         "0.0",
         "1.0"
        ],
        [
         "32",
         "ISIC_0034355",
         "0.0",
         "1.0",
         "0.0",
         "0.0",
         "0.0",
         "0.0",
         "0.0",
         "0.0",
         "0.0",
         "0.0",
         "1.0"
        ],
        [
         "33",
         "ISIC_0034356",
         "0.0",
         "1.0",
         "0.0",
         "0.0",
         "0.0",
         "0.0",
         "0.0",
         "0.0",
         "0.0",
         "0.0",
         "1.0"
        ],
        [
         "34",
         "ISIC_0034357",
         "0.0",
         "1.0",
         "0.0",
         "0.0",
         "0.0",
         "0.0",
         "0.0",
         "0.0",
         "0.0",
         "0.0",
         "1.0"
        ],
        [
         "35",
         "ISIC_0034359",
         "0.0",
         "1.0",
         "0.0",
         "0.0",
         "0.0",
         "0.0",
         "0.0",
         "0.0",
         "0.0",
         "0.0",
         "1.0"
        ],
        [
         "36",
         "ISIC_0034360",
         "0.0",
         "0.0",
         "0.0",
         "0.0",
         "1.0",
         "0.0",
         "0.0",
         "0.0",
         "0.0",
         "0.0",
         "1.0"
        ],
        [
         "37",
         "ISIC_0034361",
         "0.0",
         "0.0",
         "1.0",
         "0.0",
         "0.0",
         "0.0",
         "0.0",
         "0.0",
         "0.0",
         "0.0",
         "1.0"
        ],
        [
         "38",
         "ISIC_0034362",
         "0.0",
         "0.0",
         "0.0",
         "0.0",
         "1.0",
         "0.0",
         "0.0",
         "0.0",
         "0.0",
         "0.0",
         "1.0"
        ],
        [
         "39",
         "ISIC_0034363",
         "0.0",
         "1.0",
         "0.0",
         "0.0",
         "0.0",
         "0.0",
         "0.0",
         "0.0",
         "0.0",
         "0.0",
         "1.0"
        ],
        [
         "40",
         "ISIC_0034364",
         "0.0",
         "1.0",
         "0.0",
         "0.0",
         "0.0",
         "0.0",
         "0.0",
         "0.0",
         "0.0",
         "0.0",
         "1.0"
        ],
        [
         "41",
         "ISIC_0034365",
         "0.0",
         "1.0",
         "0.0",
         "0.0",
         "0.0",
         "0.0",
         "0.0",
         "0.0",
         "0.0",
         "0.0",
         "1.0"
        ],
        [
         "42",
         "ISIC_0034366",
         "0.0",
         "0.0",
         "0.0",
         "0.0",
         "1.0",
         "0.0",
         "0.0",
         "0.0",
         "0.0",
         "0.0",
         "1.0"
        ],
        [
         "43",
         "ISIC_0034367",
         "0.0",
         "1.0",
         "0.0",
         "0.0",
         "0.0",
         "0.0",
         "0.0",
         "0.0",
         "0.0",
         "0.0",
         "1.0"
        ],
        [
         "44",
         "ISIC_0034368",
         "0.0",
         "0.0",
         "0.0",
         "0.0",
         "1.0",
         "0.0",
         "0.0",
         "0.0",
         "0.0",
         "0.0",
         "1.0"
        ],
        [
         "45",
         "ISIC_0034369",
         "0.0",
         "1.0",
         "0.0",
         "0.0",
         "0.0",
         "0.0",
         "0.0",
         "0.0",
         "0.0",
         "0.0",
         "1.0"
        ],
        [
         "46",
         "ISIC_0034370",
         "0.0",
         "1.0",
         "0.0",
         "0.0",
         "0.0",
         "0.0",
         "0.0",
         "0.0",
         "0.0",
         "0.0",
         "1.0"
        ],
        [
         "47",
         "ISIC_0034371",
         "0.0",
         "0.0",
         "0.0",
         "0.0",
         "1.0",
         "0.0",
         "0.0",
         "0.0",
         "0.0",
         "0.0",
         "1.0"
        ],
        [
         "48",
         "ISIC_0034372",
         "0.0",
         "1.0",
         "0.0",
         "0.0",
         "0.0",
         "0.0",
         "0.0",
         "0.0",
         "0.0",
         "0.0",
         "1.0"
        ],
        [
         "49",
         "ISIC_0034374",
         "0.0",
         "1.0",
         "0.0",
         "0.0",
         "0.0",
         "0.0",
         "0.0",
         "0.0",
         "0.0",
         "0.0",
         "1.0"
        ]
       ],
       "shape": {
        "columns": 12,
        "rows": 8238
       }
      },
      "text/html": [
       "<div>\n",
       "<style scoped>\n",
       "    .dataframe tbody tr th:only-of-type {\n",
       "        vertical-align: middle;\n",
       "    }\n",
       "\n",
       "    .dataframe tbody tr th {\n",
       "        vertical-align: top;\n",
       "    }\n",
       "\n",
       "    .dataframe thead th {\n",
       "        text-align: right;\n",
       "    }\n",
       "</style>\n",
       "<table border=\"1\" class=\"dataframe\">\n",
       "  <thead>\n",
       "    <tr style=\"text-align: right;\">\n",
       "      <th></th>\n",
       "      <th>image</th>\n",
       "      <th>MEL</th>\n",
       "      <th>NV</th>\n",
       "      <th>BCC</th>\n",
       "      <th>AK</th>\n",
       "      <th>BKL</th>\n",
       "      <th>DF</th>\n",
       "      <th>VASC</th>\n",
       "      <th>SCC</th>\n",
       "      <th>UNK</th>\n",
       "      <th>score_weight</th>\n",
       "      <th>validation_weight</th>\n",
       "    </tr>\n",
       "  </thead>\n",
       "  <tbody>\n",
       "    <tr>\n",
       "      <th>0</th>\n",
       "      <td>ISIC_0034321</td>\n",
       "      <td>0.0</td>\n",
       "      <td>1.0</td>\n",
       "      <td>0.0</td>\n",
       "      <td>0.0</td>\n",
       "      <td>0.0</td>\n",
       "      <td>0.0</td>\n",
       "      <td>0.0</td>\n",
       "      <td>0.0</td>\n",
       "      <td>0.0</td>\n",
       "      <td>0.0</td>\n",
       "      <td>1.0</td>\n",
       "    </tr>\n",
       "    <tr>\n",
       "      <th>1</th>\n",
       "      <td>ISIC_0034322</td>\n",
       "      <td>0.0</td>\n",
       "      <td>1.0</td>\n",
       "      <td>0.0</td>\n",
       "      <td>0.0</td>\n",
       "      <td>0.0</td>\n",
       "      <td>0.0</td>\n",
       "      <td>0.0</td>\n",
       "      <td>0.0</td>\n",
       "      <td>0.0</td>\n",
       "      <td>0.0</td>\n",
       "      <td>1.0</td>\n",
       "    </tr>\n",
       "    <tr>\n",
       "      <th>2</th>\n",
       "      <td>ISIC_0034323</td>\n",
       "      <td>0.0</td>\n",
       "      <td>0.0</td>\n",
       "      <td>1.0</td>\n",
       "      <td>0.0</td>\n",
       "      <td>0.0</td>\n",
       "      <td>0.0</td>\n",
       "      <td>0.0</td>\n",
       "      <td>0.0</td>\n",
       "      <td>0.0</td>\n",
       "      <td>0.0</td>\n",
       "      <td>1.0</td>\n",
       "    </tr>\n",
       "    <tr>\n",
       "      <th>3</th>\n",
       "      <td>ISIC_0034324</td>\n",
       "      <td>0.0</td>\n",
       "      <td>1.0</td>\n",
       "      <td>0.0</td>\n",
       "      <td>0.0</td>\n",
       "      <td>0.0</td>\n",
       "      <td>0.0</td>\n",
       "      <td>0.0</td>\n",
       "      <td>0.0</td>\n",
       "      <td>0.0</td>\n",
       "      <td>0.0</td>\n",
       "      <td>1.0</td>\n",
       "    </tr>\n",
       "    <tr>\n",
       "      <th>4</th>\n",
       "      <td>ISIC_0034325</td>\n",
       "      <td>0.0</td>\n",
       "      <td>1.0</td>\n",
       "      <td>0.0</td>\n",
       "      <td>0.0</td>\n",
       "      <td>0.0</td>\n",
       "      <td>0.0</td>\n",
       "      <td>0.0</td>\n",
       "      <td>0.0</td>\n",
       "      <td>0.0</td>\n",
       "      <td>0.0</td>\n",
       "      <td>1.0</td>\n",
       "    </tr>\n",
       "    <tr>\n",
       "      <th>...</th>\n",
       "      <td>...</td>\n",
       "      <td>...</td>\n",
       "      <td>...</td>\n",
       "      <td>...</td>\n",
       "      <td>...</td>\n",
       "      <td>...</td>\n",
       "      <td>...</td>\n",
       "      <td>...</td>\n",
       "      <td>...</td>\n",
       "      <td>...</td>\n",
       "      <td>...</td>\n",
       "      <td>...</td>\n",
       "    </tr>\n",
       "    <tr>\n",
       "      <th>8233</th>\n",
       "      <td>ISIC_0073236</td>\n",
       "      <td>0.0</td>\n",
       "      <td>0.0</td>\n",
       "      <td>0.0</td>\n",
       "      <td>0.0</td>\n",
       "      <td>0.0</td>\n",
       "      <td>0.0</td>\n",
       "      <td>0.0</td>\n",
       "      <td>1.0</td>\n",
       "      <td>0.0</td>\n",
       "      <td>1.0</td>\n",
       "      <td>0.0</td>\n",
       "    </tr>\n",
       "    <tr>\n",
       "      <th>8234</th>\n",
       "      <td>ISIC_0073243</td>\n",
       "      <td>0.0</td>\n",
       "      <td>0.0</td>\n",
       "      <td>1.0</td>\n",
       "      <td>0.0</td>\n",
       "      <td>0.0</td>\n",
       "      <td>0.0</td>\n",
       "      <td>0.0</td>\n",
       "      <td>0.0</td>\n",
       "      <td>0.0</td>\n",
       "      <td>1.0</td>\n",
       "      <td>0.0</td>\n",
       "    </tr>\n",
       "    <tr>\n",
       "      <th>8235</th>\n",
       "      <td>ISIC_0073250</td>\n",
       "      <td>0.0</td>\n",
       "      <td>1.0</td>\n",
       "      <td>0.0</td>\n",
       "      <td>0.0</td>\n",
       "      <td>0.0</td>\n",
       "      <td>0.0</td>\n",
       "      <td>0.0</td>\n",
       "      <td>0.0</td>\n",
       "      <td>0.0</td>\n",
       "      <td>1.0</td>\n",
       "      <td>0.0</td>\n",
       "    </tr>\n",
       "    <tr>\n",
       "      <th>8236</th>\n",
       "      <td>ISIC_0073252</td>\n",
       "      <td>0.0</td>\n",
       "      <td>0.0</td>\n",
       "      <td>0.0</td>\n",
       "      <td>0.0</td>\n",
       "      <td>0.0</td>\n",
       "      <td>0.0</td>\n",
       "      <td>0.0</td>\n",
       "      <td>0.0</td>\n",
       "      <td>1.0</td>\n",
       "      <td>0.0</td>\n",
       "      <td>0.0</td>\n",
       "    </tr>\n",
       "    <tr>\n",
       "      <th>8237</th>\n",
       "      <td>ISIC_0073253</td>\n",
       "      <td>0.0</td>\n",
       "      <td>0.0</td>\n",
       "      <td>0.0</td>\n",
       "      <td>0.0</td>\n",
       "      <td>0.0</td>\n",
       "      <td>0.0</td>\n",
       "      <td>0.0</td>\n",
       "      <td>0.0</td>\n",
       "      <td>1.0</td>\n",
       "      <td>1.0</td>\n",
       "      <td>0.0</td>\n",
       "    </tr>\n",
       "  </tbody>\n",
       "</table>\n",
       "<p>8238 rows × 12 columns</p>\n",
       "</div>"
      ],
      "text/plain": [
       "             image  MEL   NV  BCC   AK  BKL   DF  VASC  SCC  UNK  \\\n",
       "0     ISIC_0034321  0.0  1.0  0.0  0.0  0.0  0.0   0.0  0.0  0.0   \n",
       "1     ISIC_0034322  0.0  1.0  0.0  0.0  0.0  0.0   0.0  0.0  0.0   \n",
       "2     ISIC_0034323  0.0  0.0  1.0  0.0  0.0  0.0   0.0  0.0  0.0   \n",
       "3     ISIC_0034324  0.0  1.0  0.0  0.0  0.0  0.0   0.0  0.0  0.0   \n",
       "4     ISIC_0034325  0.0  1.0  0.0  0.0  0.0  0.0   0.0  0.0  0.0   \n",
       "...            ...  ...  ...  ...  ...  ...  ...   ...  ...  ...   \n",
       "8233  ISIC_0073236  0.0  0.0  0.0  0.0  0.0  0.0   0.0  1.0  0.0   \n",
       "8234  ISIC_0073243  0.0  0.0  1.0  0.0  0.0  0.0   0.0  0.0  0.0   \n",
       "8235  ISIC_0073250  0.0  1.0  0.0  0.0  0.0  0.0   0.0  0.0  0.0   \n",
       "8236  ISIC_0073252  0.0  0.0  0.0  0.0  0.0  0.0   0.0  0.0  1.0   \n",
       "8237  ISIC_0073253  0.0  0.0  0.0  0.0  0.0  0.0   0.0  0.0  1.0   \n",
       "\n",
       "      score_weight  validation_weight  \n",
       "0              0.0                1.0  \n",
       "1              0.0                1.0  \n",
       "2              0.0                1.0  \n",
       "3              0.0                1.0  \n",
       "4              0.0                1.0  \n",
       "...            ...                ...  \n",
       "8233           1.0                0.0  \n",
       "8234           1.0                0.0  \n",
       "8235           1.0                0.0  \n",
       "8236           0.0                0.0  \n",
       "8237           1.0                0.0  \n",
       "\n",
       "[8238 rows x 12 columns]"
      ]
     },
     "execution_count": 75,
     "metadata": {},
     "output_type": "execute_result"
    }
   ],
   "source": [
    "isic_test"
   ]
  },
  {
   "cell_type": "code",
   "execution_count": 76,
   "id": "61388e35",
   "metadata": {},
   "outputs": [
    {
     "data": {
      "text/plain": [
       "<Axes: xlabel='category'>"
      ]
     },
     "execution_count": 76,
     "metadata": {},
     "output_type": "execute_result"
    },
    {
     "data": {
      "image/png": "[encoded data removed]",
      "text/plain": [
       "<Figure size 1200x600 with 1 Axes>"
      ]
     },
     "metadata": {},
     "output_type": "display_data"
    }
   ],
   "source": [
    "isic_combined['category'].value_counts().plot(kind='bar', figsize=(12, 6))"
   ]
  },
  {
   "cell_type": "code",
   "execution_count": 81,
   "id": "43a69a8f",
   "metadata": {},
   "outputs": [
    {
     "data": {
      "application/vnd.microsoft.datawrangler.viewer.v0+json": {
       "columns": [
        {
         "name": "category",
         "rawType": "object",
         "type": "string"
        },
        {
         "name": "count",
         "rawType": "int64",
         "type": "integer"
        }
       ],
       "ref": "7252ffc0-39c2-406f-8ae1-beab843bf562",
       "rows": [
        [
         "NV",
         "12875"
        ],
        [
         "MEL",
         "4522"
        ],
        [
         "BCC",
         "3323"
        ],
        [
         "BKL",
         "2624"
        ],
        [
         "AK",
         "867"
        ],
        [
         "SCC",
         "628"
        ],
        [
         "VASC",
         "253"
        ],
        [
         "DF",
         "239"
        ]
       ],
       "shape": {
        "columns": 1,
        "rows": 8
       }
      },
      "text/plain": [
       "category\n",
       "NV      12875\n",
       "MEL      4522\n",
       "BCC      3323\n",
       "BKL      2624\n",
       "AK        867\n",
       "SCC       628\n",
       "VASC      253\n",
       "DF        239\n",
       "Name: count, dtype: int64"
      ]
     },
     "execution_count": 81,
     "metadata": {},
     "output_type": "execute_result"
    }
   ],
   "source": [
    "isic_train_unpivoted['category'].value_counts()"
   ]
  },
  {
   "cell_type": "code",
   "execution_count": 80,
   "id": "dcbf2789",
   "metadata": {},
   "outputs": [
    {
     "data": {
      "application/vnd.microsoft.datawrangler.viewer.v0+json": {
       "columns": [
        {
         "name": "category",
         "rawType": "object",
         "type": "string"
        },
        {
         "name": "count",
         "rawType": "int64",
         "type": "integer"
        }
       ],
       "ref": "7045e40c-c7b0-4615-b84c-9c7e11cbd67f",
       "rows": [
        [
         "NV",
         "2495"
        ],
        [
         "UNK",
         "2047"
        ],
        [
         "MEL",
         "1327"
        ],
        [
         "BCC",
         "975"
        ],
        [
         "BKL",
         "660"
        ],
        [
         "AK",
         "374"
        ],
        [
         "SCC",
         "165"
        ],
        [
         "VASC",
         "104"
        ],
        [
         "DF",
         "91"
        ]
       ],
       "shape": {
        "columns": 1,
        "rows": 9
       }
      },
      "text/plain": [
       "category\n",
       "NV      2495\n",
       "UNK     2047\n",
       "MEL     1327\n",
       "BCC      975\n",
       "BKL      660\n",
       "AK       374\n",
       "SCC      165\n",
       "VASC     104\n",
       "DF        91\n",
       "Name: count, dtype: int64"
      ]
     },
     "execution_count": 80,
     "metadata": {},
     "output_type": "execute_result"
    }
   ],
   "source": [
    "isic_test_unpivoted['category'].value_counts()"
   ]
  },
  {
   "cell_type": "code",
   "execution_count": null,
   "id": "90b7186b",
   "metadata": {},
   "outputs": [],
   "source": []
  }
 ],
 "metadata": {
  "kernelspec": {
   "display_name": "base",
   "language": "python",
   "name": "python3"
  },
  "language_info": {
   "codemirror_mode": {
    "name": "ipython",
    "version": 3
   },
   "file_extension": ".py",
   "mimetype": "text/x-python",
   "name": "python",
   "nbconvert_exporter": "python",
   "pygments_lexer": "ipython3",
   "version": "3.12.7"
  }
 },
 "nbformat": 4,
 "nbformat_minor": 5
}
